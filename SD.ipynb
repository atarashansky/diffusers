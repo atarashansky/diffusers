{
 "cells": [
  {
   "cell_type": "code",
   "execution_count": 12,
   "id": "aba35848-f546-4a1d-b45c-35cdb36271bd",
   "metadata": {},
   "outputs": [],
   "source": [
    "from huggingface_hub import notebook_login\n",
    "notebook_login()"
   ]
  },
  {
   "cell_type": "code",
   "execution_count": 2,
   "id": "c88d3928-d841-4da8-8b0a-1e1b29600083",
   "metadata": {},
   "outputs": [],
   "source": [
    "from diffusers import StableDiffusionPipeline, LMSDiscreteScheduler, DDIMScheduler, PNDMScheduler\n",
    "from PIL import Image\n",
    "import numpy as np\n",
    "from dreamwalker import dreamwalk\n",
    "\n",
    "def make_grid(prompt,\n",
    "              pipe,\n",
    "              seed_x=42,\n",
    "              seed_y=42,\n",
    "              num_rows=4,\n",
    "              num_columns=4,\n",
    "              guidance_scale=7.5,\n",
    "              num_inference_steps=50):\n",
    "    return pipe(num_columns * [prompt],\n",
    "                             guidance_scale=guidance_scale,\n",
    "                             num_inference_steps=num_inference_steps,\n",
    "                             n_iter = num_rows,\n",
    "                             seed_x=seed_x,\n",
    "                             seed_y=seed_y)\n",
    "\n",
    "model_id = \"CompVis/stable-diffusion-v1-3-diffusers\"\n",
    "# Use the K-LMS scheduler here instead\n",
    "#scheduler = LMSDiscreteScheduler(beta_start=0.00085, beta_end=0.012, beta_schedule=\"scaled_linear\", num_train_timesteps=1000)\n",
    "pipe = StableDiffusionPipeline.from_pretrained(model_id, use_auth_token=True)"
   ]
  },
  {
   "cell_type": "code",
   "execution_count": 34,
   "id": "fc6d0e63-447d-4d05-a1dc-1868ede985fb",
   "metadata": {},
   "outputs": [
    {
     "name": "stdout",
     "output_type": "stream",
     "text": [
      "Dreaming iteration 0\n",
      "Dreaming iteration 1\n",
      "Dreaming iteration 2\n",
      "Dreaming iteration 3\n",
      "Dreaming iteration 4\n",
      "CPU times: user 2min 20s, sys: 1min 49s, total: 4min 10s\n",
      "Wall time: 4min 9s\n"
     ]
    }
   ],
   "source": [
    "%%time\n",
    "grid,images,seeds = make_grid(\n",
    "    \"a cat\",\n",
    "    pipe,\n",
    "    seed_x=523,\n",
    "    seed_y=243,\n",
    "    num_rows=5,\n",
    "    num_columns=5,\n",
    "    num_inference_steps=59,\n",
    "    guidance_scale=9\n",
    ")"
   ]
  },
  {
   "cell_type": "raw",
   "id": "8abe35d4-8594-46b3-af03-2e11930b3e78",
   "metadata": {},
   "source": [
    "%%time\n",
    "images = dreamwalk(pipe,\n",
    "          prompts=[\"a cat\",\n",
    "                   \"a cat\"],\n",
    "          seeds=[3717, 4784],\n",
    "          num_steps=100,\n",
    "          root_image=False,\n",
    "          num_inference_steps=50,\n",
    "          guidance_scale=9,\n",
    "          strength=None\n",
    "         )"
   ]
  },
  {
   "cell_type": "raw",
   "id": "aa3dce85-7c80-4a32-89cc-3faf5423c63e",
   "metadata": {},
   "source": [
    "[display(i) for i in images]"
   ]
  },
  {
   "cell_type": "code",
   "execution_count": 14,
   "id": "cd37b1a3-f927-4573-8fae-cec4c8feaa03",
   "metadata": {},
   "outputs": [],
   "source": [
    "images = images + images[1:-1][::-1]\n",
    "images[0].save('test.gif', save_all=True, append_images=images[1:], optimize=False, duration=20*4, loop=0)"
   ]
  }
 ],
 "metadata": {
  "kernelspec": {
   "display_name": "sd",
   "language": "python",
   "name": "sd"
  },
  "language_info": {
   "codemirror_mode": {
    "name": "ipython",
    "version": 3
   },
   "file_extension": ".py",
   "mimetype": "text/x-python",
   "name": "python",
   "nbconvert_exporter": "python",
   "pygments_lexer": "ipython3",
   "version": "3.9.13"
  }
 },
 "nbformat": 4,
 "nbformat_minor": 5
}
